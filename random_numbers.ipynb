{
 "cells": [
  {
   "cell_type": "code",
   "execution_count": 3,
   "id": "b3099c0b",
   "metadata": {},
   "outputs": [],
   "source": [
    "#import random module\n",
    "import random"
   ]
  },
  {
   "cell_type": "code",
   "execution_count": 4,
   "id": "efb348d7",
   "metadata": {},
   "outputs": [
    {
     "data": {
      "text/plain": [
       "32"
      ]
     },
     "execution_count": 4,
     "metadata": {},
     "output_type": "execute_result"
    }
   ],
   "source": [
    "# .randint() - generates a single integer between the given paramters\n",
    "random.randint(-90,90)"
   ]
  },
  {
   "cell_type": "code",
   "execution_count": 5,
   "id": "96321949",
   "metadata": {},
   "outputs": [
    {
     "data": {
      "text/plain": [
       "0.4210699882270248"
      ]
     },
     "execution_count": 5,
     "metadata": {},
     "output_type": "execute_result"
    }
   ],
   "source": [
    "# .random() - generates a single floating-point decimal between 0 and 1\n",
    "random.random()"
   ]
  },
  {
   "cell_type": "code",
   "execution_count": 6,
   "id": "ecee13f9",
   "metadata": {},
   "outputs": [
    {
     "data": {
      "text/plain": [
       "59.046810800584005"
      ]
     },
     "execution_count": 6,
     "metadata": {},
     "output_type": "execute_result"
    }
   ],
   "source": [
    "# combine the above functions to get our desired latitudes\n",
    "random_number = random.randint(-90,89) + random.random()\n",
    "random_number"
   ]
  },
  {
   "cell_type": "code",
   "execution_count": 7,
   "id": "20837f65",
   "metadata": {},
   "outputs": [
    {
     "data": {
      "text/plain": [
       "-29"
      ]
     },
     "execution_count": 7,
     "metadata": {},
     "output_type": "execute_result"
    }
   ],
   "source": [
    "# .randrange() - can add a step parameter with upper and lower limit, default step = 1\n",
    "random.randrange(-90,90,1)"
   ]
  },
  {
   "cell_type": "code",
   "execution_count": 8,
   "id": "037804f3",
   "metadata": {},
   "outputs": [
    {
     "data": {
      "text/plain": [
       "45"
      ]
     },
     "execution_count": 8,
     "metadata": {},
     "output_type": "execute_result"
    }
   ],
   "source": [
    "random.randrange(-90,90,3)"
   ]
  },
  {
   "cell_type": "code",
   "execution_count": 9,
   "id": "a3ab8d1d",
   "metadata": {},
   "outputs": [
    {
     "data": {
      "text/plain": [
       "85.99453852447346"
      ]
     },
     "execution_count": 9,
     "metadata": {},
     "output_type": "execute_result"
    }
   ],
   "source": [
    "# .uniform() - generates a floating-point decimal number between the limits given\n",
    "random.uniform(-90,90)"
   ]
  },
  {
   "cell_type": "code",
   "execution_count": 11,
   "id": "38412637",
   "metadata": {},
   "outputs": [],
   "source": [
    "# Import the NumPy module, has a built-in random module\n",
    "import numpy as np"
   ]
  },
  {
   "cell_type": "code",
   "execution_count": 12,
   "id": "d06b0171",
   "metadata": {},
   "outputs": [
    {
     "data": {
      "text/plain": [
       "53.95158791069369"
      ]
     },
     "execution_count": 12,
     "metadata": {},
     "output_type": "execute_result"
    }
   ],
   "source": [
    "np.random.uniform(-90,90)"
   ]
  },
  {
   "cell_type": "code",
   "execution_count": 13,
   "id": "d61889ae",
   "metadata": {},
   "outputs": [
    {
     "data": {
      "text/plain": [
       "array([-58.43061586, -15.04513803, -15.098801  ,  47.88014791,\n",
       "        28.15845571, -85.33319867,  19.18510612,   5.38764222,\n",
       "        14.94813404,  54.10456942, -40.33482797,   9.26582086,\n",
       "        28.83421482, -41.91627542, -44.85329618, -34.53486477,\n",
       "        14.79716749, -54.10844698, -65.36174494, -52.83244863,\n",
       "       -61.10182508,   9.2013618 ,  48.94496199, -48.87250721,\n",
       "        51.46507871, -25.54596774,  11.2855878 ,  75.77768038,\n",
       "       -38.19001913,  80.8868728 ,  73.69431526, -64.45655639,\n",
       "        52.87645685, -88.5885443 , -38.72857054, -18.64955749,\n",
       "       -14.07061539,  49.71309577,  54.22191172,  13.78741767,\n",
       "        58.1393603 ,  45.3637031 , -59.83420779,   8.36785374,\n",
       "        13.54182404,  12.15319206,  44.47065621, -16.0252388 ,\n",
       "        34.72056985,  31.88999687])"
      ]
     },
     "execution_count": 13,
     "metadata": {},
     "output_type": "execute_result"
    }
   ],
   "source": [
    "np.random.uniform(-90,90, size=50)"
   ]
  },
  {
   "cell_type": "code",
   "execution_count": 14,
   "id": "771a14a2",
   "metadata": {},
   "outputs": [],
   "source": [
    "# Import timeit to test how long a piece of code or function takes to run\n",
    "import timeit"
   ]
  },
  {
   "cell_type": "code",
   "execution_count": 15,
   "id": "0aba5877",
   "metadata": {},
   "outputs": [
    {
     "name": "stdout",
     "output_type": "stream",
     "text": [
      "14.4 µs ± 1.98 µs per loop (mean ± std. dev. of 7 runs, 100000 loops each)\n"
     ]
    }
   ],
   "source": [
    "%timeit np.random.uniform(-90,90, size=1500)"
   ]
  },
  {
   "cell_type": "code",
   "execution_count": 16,
   "id": "cc86e636",
   "metadata": {},
   "outputs": [
    {
     "name": "stdout",
     "output_type": "stream",
     "text": [
      "2 ms ± 91.2 µs per loop (mean ± std. dev. of 7 runs, 1000 loops each)\n"
     ]
    }
   ],
   "source": [
    "def latitudes(size):\n",
    "    latitudes = []\n",
    "    x = 0\n",
    "    while x < (size):\n",
    "        random_lat = random.randint(-90, 90) + random.random()\n",
    "        latitudes.append(random_lat)\n",
    "        x += 1\n",
    "    return latitudes\n",
    "# Call the function with 1500.\n",
    "%timeit latitudes(1500)"
   ]
  },
  {
   "cell_type": "code",
   "execution_count": null,
   "id": "c6877981",
   "metadata": {},
   "outputs": [],
   "source": []
  }
 ],
 "metadata": {
  "kernelspec": {
   "display_name": "PythonData",
   "language": "python",
   "name": "pythondata"
  },
  "language_info": {
   "codemirror_mode": {
    "name": "ipython",
    "version": 3
   },
   "file_extension": ".py",
   "mimetype": "text/x-python",
   "name": "python",
   "nbconvert_exporter": "python",
   "pygments_lexer": "ipython3",
   "version": "3.7.11"
  }
 },
 "nbformat": 4,
 "nbformat_minor": 5
}
